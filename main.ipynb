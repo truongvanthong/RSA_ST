{
 "cells": [
  {
   "cell_type": "markdown",
   "metadata": {},
   "source": [
    "# $$\\text{BÀI TẬP RSA}$$"
   ]
  },
  {
   "cell_type": "markdown",
   "metadata": {},
   "source": [
    "Giải thuật RSA gồm các bước sau:\n",
    "1. Chọn hai số nguyên tố $p$ và $q$ khác nhau.\n",
    "2. Tính $n = p \\times q$.\n",
    "3. Tính $\\phi(n) = (p-1) \\times (q-1)$.\n",
    "4. Chọn số nguyên $e$ sao cho $1 < e < \\phi(n)$ và $e$ là số nguyên tố cùng nhau với $\\phi(n)$.\n",
    "5. Tính $d$ sao cho $d \\times e \\equiv 1 \\pmod{\\phi(n)}$.\n",
    "6. Khóa công khai là cặp số $(n, e)$.\n",
    "7. Khóa bí mật là cặp số $(n, d)$.\n",
    "8. Mã hóa một số $m$ thành $c$ bằng cách tính $c = m^e \\pmod{n}$.\n",
    "9. Giải mã một số $c$ thành $m$ bằng cách tính $m = c^d \\pmod{n}$."
   ]
  },
  {
   "cell_type": "markdown",
   "metadata": {},
   "source": [
    "---"
   ]
  },
  {
   "cell_type": "code",
   "execution_count": 19,
   "metadata": {},
   "outputs": [
    {
     "name": "stdout",
     "output_type": "stream",
     "text": [
      "p = 17\n",
      "q = 29\n",
      "Phi = 448\n",
      "Những giá trị e hợp lệ: [3, 5, 9, 11, 13, 15, 17, 19, 23, 25, 27, 29, 31, 33, 37, 39, 41, 43, 45, 47, 51, 53, 55, 57, 59, 61, 65, 67, 69, 71, 73, 75, 79, 81, 83, 85, 87, 89, 93, 95, 97, 99, 101, 103, 107, 109, 111, 113, 115, 117, 121, 123, 125, 127, 129, 131, 135, 137, 139, 141, 143, 145, 149, 151, 153, 155, 157, 159, 163, 165, 167, 169, 171, 173, 177, 179, 181, 183, 185, 187, 191, 193, 195, 197, 199, 201, 205, 207, 209, 211, 213, 215, 219, 221, 223, 225, 227, 229, 233, 235, 237, 239, 241, 243, 247, 249, 251, 253, 255, 257, 261, 263, 265, 267, 269, 271, 275, 277, 279, 281, 283, 285, 289, 291, 293, 295, 297, 299, 303, 305, 307, 309, 311, 313, 317, 319, 321, 323, 325, 327, 331, 333, 335, 337, 339, 341, 345, 347, 349, 351, 353, 355, 359, 361, 363, 365, 367, 369, 373, 375, 377, 379, 381, 383, 387, 389, 391, 393, 395, 397, 401, 403, 405, 407, 409, 411, 415, 417, 419, 421, 423, 425, 429, 431, 433, 435, 437, 439, 443, 445, 447]\n",
      "N = 493\n",
      "E = 3\n",
      "D = 299\n",
      "Khoá công khai: (493, 3)\n",
      "Khoá bí mật: (493, 299)\n",
      "Tin nhắn gốc: 4\n",
      "Tin nhắn mã hoá: 64\n",
      "Tin nhắn giải mã: 4\n"
     ]
    }
   ],
   "source": [
    "import math\n",
    "\n",
    "def modinv(a, m):\n",
    "    m0, x0, x1 = m, 0, 1\n",
    "    while a > 1:\n",
    "        q = a // m\n",
    "        m, a = a % m, m\n",
    "        x0, x1 = x1 - q * x0, x0\n",
    "    if x1 < 0:\n",
    "        x1 += m0\n",
    "    return x1\n",
    "\n",
    "def find_possible_e_values(phi):\n",
    "    # Trả về danh sách các giá trị e hợp lệ sao cho gcd(e, phi) = 1\n",
    "    possible_e_values = [e for e in range(2, phi) if math.gcd(e, phi) == 1]\n",
    "    return possible_e_values\n",
    "\n",
    "def generate_keys(p, q, e):\n",
    "    n = p * q\n",
    "    phi = (p-1) * (q-1)\n",
    "    d = modinv(e, phi)\n",
    "    return (n, e, d)\n",
    "\n",
    "# p = 17\n",
    "# q = 29\n",
    "\n",
    "p = int(input(\"Nhập p: \"))\n",
    "q = int(input(\"Nhập q: \"))\n",
    "print(f\"p = {p}\")\n",
    "print(f\"q = {q}\")\n",
    "phi = (p-1) * (q-1)\n",
    "print(f\"Phi = {phi}\")\n",
    "possible_e_values = find_possible_e_values(phi)\n",
    "print(f\"Những giá trị e hợp lệ: {possible_e_values}\")\n",
    "e = int(input(\"Chọn một giá trị e từ danh sách trên: \"))\n",
    "\n",
    "n, e, d = generate_keys(p, q, e)\n",
    "print(f\"N = {n}\")\n",
    "print(f\"E = {e}\")\n",
    "print(f\"D = {d}\")\n",
    "\n",
    "m = 4\n",
    "c = pow(m, e, n)\n",
    "m_decrypted = pow(c, d, n)\n",
    "\n",
    "print(f\"Khoá công khai: ({n}, {e})\")\n",
    "print(f\"Khoá bí mật: ({n}, {d})\")\n",
    "print(f\"Tin nhắn gốc: {m}\")\n",
    "print(f\"Tin nhắn mã hoá: {c}\")\n",
    "print(f\"Tin nhắn giải mã: {m_decrypted}\")"
   ]
  }
 ],
 "metadata": {
  "kernelspec": {
   "display_name": "Python 3",
   "language": "python",
   "name": "python3"
  },
  "language_info": {
   "codemirror_mode": {
    "name": "ipython",
    "version": 3
   },
   "file_extension": ".py",
   "mimetype": "text/x-python",
   "name": "python",
   "nbconvert_exporter": "python",
   "pygments_lexer": "ipython3",
   "version": "3.11.5"
  }
 },
 "nbformat": 4,
 "nbformat_minor": 2
}
